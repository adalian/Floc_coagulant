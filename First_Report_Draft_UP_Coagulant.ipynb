{
  "nbformat": 4,
  "nbformat_minor": 0,
  "metadata": {
    "colab": {
      "name": "First Report Draft- UP Coagulant",
      "provenance": [],
      "include_colab_link": true
    },
    "kernelspec": {
      "name": "python3",
      "display_name": "Python 3"
    }
  },
  "cells": [
    {
      "cell_type": "markdown",
      "metadata": {
        "id": "view-in-github",
        "colab_type": "text"
      },
      "source": [
        "<a href=\"https://colab.research.google.com/github/adalian/Floc_coagulant/blob/master/First_Report_Draft_UP_Coagulant.ipynb\" target=\"_parent\"><img src=\"https://colab.research.google.com/assets/colab-badge.svg\" alt=\"Open In Colab\"/></a>"
      ]
    },
    {
      "cell_type": "markdown",
      "metadata": {
        "id": "yZ78y558OQP8",
        "colab_type": "text"
      },
      "source": [
        "# Unit Processes: Coagulant, Fall 2019\n",
        "#### Ada Lian, Sarah Paquin\n",
        "#### October 4, 2019\n",
        "\n",
        "## Abstract\n",
        "\n",
        "\n",
        "## Introduction\n",
        "\n",
        "\n",
        "## Literature Review and Previous Work\n",
        "\n",
        "Untreated water contains inorganic and organic particles that pose health risks and are difficult to remove. Therefore, coagulation and flocculation are important steps of the water treatment process because they make the removal of these particles easier. AguaClara plants use polyaluminium chloride (PACl), which is a coagulant that precipitates in water to create sticky nanoparticles [(Gebbie, 2006)](http://wioa.org.au/conference_papers/06_qld/documents/PeterGebbie.pdf). The fluid deformation caused by the flocculator allows the particles and coagulant to mix and collide, this creates flocs. Flocs are particle aggregations that are larger and heavier and are therefore easier to settle to at the bottom of the sedimentation tank to create a floc blanket [(Weber-Shirk et al., 2018)](https://aguaclara.github.io/Textbook/Flocculation/Floc_Intro.html). Floc blankets are a fluidized bed of solids that allows for even more collisions between particles in the blanket and the flocs from the flocculator. It is important for the floc blanket to be stable and uniformed in order to efficiently remove as many particles from the water before it flows through the filtration system [(Conneely & Sen, 2018)](https://github.com/AguaClara/HRS-Flow-Recycle/blob/master/HRS-Flow-Recycle-Final-Report.md). \n",
        "\n",
        "Previous teams have researched different variables to optimize the performance of the floc blanket. For example, the High Rate Sedimentation: Flow Recycle team noticed that the floc blanket is denser at the top of the tank due to higher upflow velocities of water. They hypothesized that fabricating a recycle line on the tank would improve the longevity of the floc blanket and make the blanket more stable [(Conneely & Sen, 2018)](https://github.com/AguaClara/HRS-Flow-Recycle/blob/master/HRS-Flow-Recycle-Final-Report.md). Similarly, the High Rate Sedimentation: Bottom Geometry team observed that the regular flat bottom shape of the tank causes sediment buildup/ floc buildup which is a dense layer of flocs that cannot be broken up. The team therefore designed different inserts that prevent flocs from stacking on top of each other [(Benitez & Lee, 2019)](https://github.com/AguaClara/HRS-Bot-Geo/blob/master/2019%20Spring/Reports/HRSBotGeo2FinalReportDraft.md). \n",
        "\n",
        "William H. Pennock conducted a similar research to the UPC team, which varies the coagulant dosages. Pennock ranged the coagulant dosage from 0.05 to 98 mg/L as Al. The data reveals that at a certain point of the experiment the performance of the floc blanket decreases, as shown by the increase in effluent turbidity as the coagulant dosage passes a certain point [(Pennock et al., 2018)](https://www.researchgate.net/publication/326076774_A_Hydrodynamic_and_Surface_Coverage_Model_Capable_of_Predicting_Settled_Effluent_Turbidity_Subsequent_to_Hydraulic_Flocculation). \n",
        "\n",
        "![Graph](https://raw.githubusercontent.com/AguaClara/Floc_coagulant/master/Coagulant-Turbidity%20Graph%20-%20Pennock.png) \n",
        "Figure 1: Coagulant dose effect on effluent turbidity [(Pennock et al., 2018)](https://www.researchgate.net/publication/326076774_A_Hydrodynamic_and_Surface_Coverage_Model_Capable_of_Predicting_Settled_Effluent_Turbidity_Subsequent_to_Hydraulic_Flocculation). \n",
        "\n",
        "This is because although it might seem like more coagulant will allow bigger and more flocs, it is hypothesized that with too much coagulant nanoparticles, the nanoparticles are more prone to attach to each other rather than to the inorganic and organic particles. The UPC team will determine the range of coagulant dosages that would minimize the effluent turbidity while preventing floc blanket decay and coagulant wastage. \n"
      ]
    }
  ]
}